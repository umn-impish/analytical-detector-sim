{
 "cells": [
  {
   "cell_type": "code",
   "execution_count": null,
   "metadata": {},
   "outputs": [],
   "source": [
    "import os\n",
    "\n",
    "import astropy.units as u\n",
    "import matplotlib.pyplot as plt\n",
    "import numpy as np\n",
    "import grips_stack as gs\n",
    "from adetsim.sim_src import FlareSpectrum as fs\n",
    "\n",
    "plt.style.use(os.getenv('MPL_INTERACTIVE_STYLE'))\n",
    "%matplotlib qt\n",
    "\n",
    "geom_area = ((40 * 40) << u.mm**2).to(u.cm**2)"
   ]
  },
  {
   "cell_type": "code",
   "execution_count": null,
   "metadata": {},
   "outputs": [],
   "source": [
    "stacks = {\n",
    "    'thicker': gs.GripsStack({'lyso': 0.5}),\n",
    "    'thinner': gs.GripsStack({'lyso': 0.4})\n",
    "}"
   ]
  },
  {
   "cell_type": "code",
   "execution_count": null,
   "metadata": {},
   "outputs": [],
   "source": [
    "energies = np.arange(0.5, 300, 0.1)\n",
    "values = np.zeros(energies.size - 1)\n",
    "test_spectrum = fs.FlareSpectrum(\n",
    "    'none', thermal=values, nonthermal=values, energy_edges=energies)\n",
    "\n",
    "srms = dict()\n",
    "for k in stacks:\n",
    "    srms[k] = stacks[k].generate_detector_response_to(\n",
    "        test_spectrum, disperse_energy=False)"
   ]
  },
  {
   "cell_type": "code",
   "execution_count": null,
   "metadata": {},
   "outputs": [],
   "source": [
    "fig, ax = plt.subplots(layout='constrained')\n",
    "\n",
    "ax.set(\n",
    "    xlabel='energy (keV)',\n",
    "    ylabel='effective area (cm2)',\n",
    "    xscale='log', yscale='log',\n",
    "    title='Comparing 5mm to 4mm thickness'\n",
    ")\n",
    "\n",
    "color_map = {\n",
    "    'thicker': 'red',\n",
    "    'thinner': 'black'\n",
    "}\n",
    "\n",
    "area = geom_area.to_value(u.cm**2) * np.ones(energies.size - 1)\n",
    "for k in stacks:\n",
    "    eff_area = srms[k] @ area\n",
    "    ax.stairs(eff_area, energies, color=color_map[k], label=f'{stacks[k].detector.thickness * 10:.0f}mm')\n",
    "\n",
    "ax.legend()\n",
    "plt.show()"
   ]
  }
 ],
 "metadata": {
  "kernelspec": {
   "display_name": "skitspex-dev",
   "language": "python",
   "name": "python3"
  },
  "language_info": {
   "codemirror_mode": {
    "name": "ipython",
    "version": 3
   },
   "file_extension": ".py",
   "mimetype": "text/x-python",
   "name": "python",
   "nbconvert_exporter": "python",
   "pygments_lexer": "ipython3",
   "version": "3.12.1"
  }
 },
 "nbformat": 4,
 "nbformat_minor": 2
}
