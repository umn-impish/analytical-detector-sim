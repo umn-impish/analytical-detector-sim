{
 "cells": [
  {
   "cell_type": "markdown",
   "metadata": {},
   "source": [
    "The light from the Sun has to pass through more atmosphere the higher the zenith angle (the further away the Sun is from being directly above the observer).\n",
    "This notebook plots the thickness of the atmosphere as a function of zenith angle, given specific parameters."
   ]
  },
  {
   "cell_type": "code",
   "execution_count": 6,
   "metadata": {},
   "outputs": [],
   "source": [
    "import astropy.units as u\n",
    "import matplotlib.pyplot as plt\n",
    "import numpy as np\n",
    "import os\n",
    "\n",
    "from adetsim.atmoatt.atmospheric_attenuator import thickness_through_zenith, EARTH_RADIUS"
   ]
  },
  {
   "cell_type": "code",
   "execution_count": 11,
   "metadata": {},
   "outputs": [],
   "source": [
    "os.makedirs('plots', exist_ok=True)"
   ]
  },
  {
   "cell_type": "code",
   "execution_count": 12,
   "metadata": {},
   "outputs": [
    {
     "name": "stderr",
     "output_type": "stream",
     "text": [
      "/home/william/.pyenv/versions/3.12.1/lib/python3.12/site-packages/ipykernel/eventloops.py:128: UserWarning: constrained_layout not applied because axes sizes collapsed to zero.  Try making figure larger or Axes decorations smaller.\n",
      "  el.exec() if hasattr(el, \"exec\") else el.exec_()\n"
     ]
    }
   ],
   "source": [
    "# %matplotlib inline\n",
    "\n",
    "zeniths = np.arange(0, 91, 1) * u.deg\n",
    "observer_altitude = 40 * u.km\n",
    "thicknesses = [thickness_through_zenith(z, observer_altitude=observer_altitude).value for z in zeniths]\n",
    "atmospheric_radius = 200 * u.km\n",
    "thickness_factors = np.array(thicknesses) * u.km / (atmospheric_radius-observer_altitude)\n",
    "\n",
    "fig, ax = plt.subplots(figsize=(6,6), layout='constrained')\n",
    "ax.scatter(zeniths, thickness_factors, c='k', s=10)\n",
    "ax.plot(zeniths, thickness_factors, 'k--')\n",
    "ax.set(\n",
    "    xlabel=f'Zenith angle [{zeniths.unit}]',\n",
    "    ylabel='Atmopshere thickness [atmosphere radii]',\n",
    "    title=f'Atmospheric thickness vs solar zenith angle\\nEarth radius = {EARTH_RADIUS}, atmosphere radius = {atmospheric_radius},\\nobserver altitude = {observer_altitude}'\n",
    ")\n",
    "ax.axhline(1, c='gray', ls=':')\n",
    "ax.axvline(90, c='gray', ls=':')\n",
    "plt.savefig('plots/atmospheric_thickness.png')"
   ]
  },
  {
   "cell_type": "code",
   "execution_count": null,
   "metadata": {},
   "outputs": [],
   "source": []
  }
 ],
 "metadata": {
  "kernelspec": {
   "display_name": "Python 3",
   "language": "python",
   "name": "python3"
  },
  "language_info": {
   "codemirror_mode": {
    "name": "ipython",
    "version": 3
   },
   "file_extension": ".py",
   "mimetype": "text/x-python",
   "name": "python",
   "nbconvert_exporter": "python",
   "pygments_lexer": "ipython3",
   "version": "3.12.1"
  }
 },
 "nbformat": 4,
 "nbformat_minor": 2
}
